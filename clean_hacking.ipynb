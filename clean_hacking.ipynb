{
 "cells": [
  {
   "cell_type": "code",
   "execution_count": 8,
   "metadata": {},
   "outputs": [
    {
     "name": "stdout",
     "output_type": "stream",
     "text": [
      "Requirement already satisfied: flask-cors in /Users/merjem/miniforge3/envs/pds/lib/python3.10/site-packages (5.0.0)\n",
      "Requirement already satisfied: Flask>=0.9 in /Users/merjem/miniforge3/envs/pds/lib/python3.10/site-packages (from flask-cors) (3.0.3)\n",
      "Requirement already satisfied: Werkzeug>=3.0.0 in /Users/merjem/miniforge3/envs/pds/lib/python3.10/site-packages (from Flask>=0.9->flask-cors) (3.0.4)\n",
      "Requirement already satisfied: Jinja2>=3.1.2 in /Users/merjem/miniforge3/envs/pds/lib/python3.10/site-packages (from Flask>=0.9->flask-cors) (3.1.4)\n",
      "Requirement already satisfied: itsdangerous>=2.1.2 in /Users/merjem/miniforge3/envs/pds/lib/python3.10/site-packages (from Flask>=0.9->flask-cors) (2.2.0)\n",
      "Requirement already satisfied: click>=8.1.3 in /Users/merjem/miniforge3/envs/pds/lib/python3.10/site-packages (from Flask>=0.9->flask-cors) (8.1.7)\n",
      "Requirement already satisfied: blinker>=1.6.2 in /Users/merjem/miniforge3/envs/pds/lib/python3.10/site-packages (from Flask>=0.9->flask-cors) (1.6.2)\n",
      "Requirement already satisfied: MarkupSafe>=2.0 in /Users/merjem/miniforge3/envs/pds/lib/python3.10/site-packages (from Jinja2>=3.1.2->Flask>=0.9->flask-cors) (2.1.3)\n"
     ]
    }
   ],
   "source": [
    "#!pip install flask-cors"
   ]
  },
  {
   "cell_type": "code",
   "execution_count": 30,
   "metadata": {},
   "outputs": [
    {
     "data": {
      "text/plain": [
       "<flask_cors.extension.CORS at 0x22e6cf328b0>"
      ]
     },
     "execution_count": 30,
     "metadata": {},
     "output_type": "execute_result"
    }
   ],
   "source": [
    "import os\n",
    "#import pandas as pd\n",
    "#import numpy as np\n",
    "import requests\n",
    "from bs4 import BeautifulSoup\n",
    "import re\n",
    "import wikipediaapi\n",
    "\n",
    "from geopy.geocoders import Nominatim\n",
    "from geopy.distance import geodesic\n",
    "from geopy import distance\n",
    "\n",
    "from flask import Flask, request, jsonify\n",
    "from flask_cors import CORS\n",
    "from threading import Thread\n",
    "\n",
    "\n",
    "app = Flask(__name__)\n",
    "CORS(app)"
   ]
  },
  {
   "cell_type": "code",
   "execution_count": 31,
   "metadata": {},
   "outputs": [],
   "source": [
    "# import flask"
   ]
  },
  {
   "cell_type": "code",
   "execution_count": 32,
   "metadata": {},
   "outputs": [],
   "source": [
    "custom_headers = {\n",
    "    'user-agent': 'Mozilla/5.0 (Macintosh; Intel Mac OS X 10_15_7) AppleWebKit/537.36 (KHTML, like Gecko) Chrome/108.0.0.0 Safari/537.36',\n",
    "    'accept-language': 'en-GB,en;q=0.9',\n",
    "}"
   ]
  },
  {
   "cell_type": "code",
   "execution_count": 33,
   "metadata": {},
   "outputs": [],
   "source": [
    "def get_request(url):\n",
    "    res = requests.get(url, headers=custom_headers)\n",
    "    return BeautifulSoup(res.text)"
   ]
  },
  {
   "cell_type": "code",
   "execution_count": null,
   "metadata": {},
   "outputs": [],
   "source": []
  },
  {
   "cell_type": "code",
   "execution_count": null,
   "metadata": {},
   "outputs": [],
   "source": []
  },
  {
   "cell_type": "markdown",
   "metadata": {},
   "source": [
    "Wikipedia Amazon Warehouse Scraping"
   ]
  },
  {
   "cell_type": "code",
   "execution_count": 34,
   "metadata": {},
   "outputs": [],
   "source": [
    "wiki_wiki = wikipediaapi.Wikipedia('MyProjectName (merlin@example.com)', 'en')\n",
    "page_py = wiki_wiki.page('List_of_Amazon_locations#North_America')"
   ]
  },
  {
   "cell_type": "code",
   "execution_count": 35,
   "metadata": {},
   "outputs": [],
   "source": [
    "section = page_py.section_by_title('Fulfillment and warehousing')\n",
    "us_housing = section.section_by_title('North America').section_by_title('United States')\n",
    "full_housing_text = us_housing.text.split('\\n')[3:]\n",
    "# full_housing_text"
   ]
  },
  {
   "cell_type": "code",
   "execution_count": 37,
   "metadata": {},
   "outputs": [],
   "source": [
    "state_names = [\"Alaska\", \"Alabama\", \"Arkansas\", \"American Samoa\", \"Arizona\", \"California\", \"Colorado\", \"Connecticut\", \"District \", \n",
    "               \"of Columbia\", \"Delaware\", \"Florida\", \"Georgia\", \"Guam\", \"Hawaii\", \"Iowa\", \"Idaho\", \"Illinois\", \"Indiana\", \"Kansas\", \n",
    "               \"Kentucky\", \"Louisiana\", \"Massachusetts\", \"Maryland\", \"Maine\", \"Michigan\", \"Minnesota\", \"Missouri\", \"Mississippi\", \n",
    "               \"Montana\", \"North Carolina\", \"North Dakota\", \"Nebraska\", \"New Hampshire\", \"New Jersey\", \"New Mexico\", \"Nevada\", \"New York\", \n",
    "               \"Ohio\", \"Oklahoma\", \"Oregon\", \"Pennsylvania\", \"Puerto Rico\", \"Rhode Island\", \"South Carolina\", \"South Dakota\", \"Tennessee\", \n",
    "               \"Texas\", \"Utah\", \"Virginia\", \"Virgin Islands\", \"Vermont\", \"Washington\", \"Wisconsin\", \"West Virginia\", \"Wyoming\"]\n",
    "\n",
    "amazon_warehouses = {}\n",
    "sect = full_housing_text[0]\n",
    "for loc in full_housing_text:\n",
    "    # loc = loc.split()\n",
    "    # print\n",
    "    if loc in state_names:\n",
    "        # print(loc)\n",
    "        sect = loc\n",
    "        amazon_warehouses[sect] = []\n",
    "    else: \n",
    "        amazon_warehouses[sect] += [loc]\n",
    "\n",
    "# amazon_warehouses"
   ]
  },
  {
   "cell_type": "code",
   "execution_count": null,
   "metadata": {},
   "outputs": [],
   "source": []
  },
  {
   "cell_type": "code",
   "execution_count": 38,
   "metadata": {},
   "outputs": [
    {
     "data": {
      "text/plain": [
       "['Brownstown Township (DTW5)',\n",
       " 'Caledonia (GRR1)',\n",
       " 'Delta Township',\n",
       " 'Detroit',\n",
       " 'Gaines Township',\n",
       " 'Hazel Park (DDT1, SMI1) ',\n",
       " 'Huron Township (DTW3) ',\n",
       " 'Livonia (DET1)',\n",
       " 'Plymouth (DTW8)',\n",
       " 'Pontiac (DDT6, DET3)',\n",
       " 'Romulus (DTW1, DTW3, DTW9, DDT2)',\n",
       " 'Shelby Charter Township (DET2)',\n",
       " 'Sterling Heights (DGR3)']"
      ]
     },
     "execution_count": 38,
     "metadata": {},
     "output_type": "execute_result"
    }
   ],
   "source": [
    "amazon_warehouses['Michigan']"
   ]
  },
  {
   "cell_type": "markdown",
   "metadata": {},
   "source": [
    "Finding Distances"
   ]
  },
  {
   "cell_type": "code",
   "execution_count": 39,
   "metadata": {},
   "outputs": [],
   "source": [
    "def get_lat_lng_nominatim(city_name):\n",
    "    url = f\"https://nominatim.openstreetmap.org/search?q={city_name}&format=json\"\n",
    "\n",
    "    \n",
    "    headers = {\n",
    "        \"User-Agent\": \"AmazonEco/1.0 (nmokh05@gmail.com)\"\n",
    "    }  # Replace with your actual app name and contact email\n",
    "    \n",
    "    try:\n",
    "        response = requests.get(url, headers=headers)\n",
    "        if response.status_code == 200:\n",
    "            data = response.json()\n",
    "            if len(data) > 0:\n",
    "                lat = data[0]['lat']\n",
    "                lon = data[0]['lon']\n",
    "                return float(lat), float(lon)\n",
    "            else:\n",
    "                print(f\"No results found for city: {city_name}\")\n",
    "                return None, None\n",
    "        else:\n",
    "            print(f\"Error {response.status_code}: {response.text}\")\n",
    "            return None, None\n",
    "    except Exception as e:\n",
    "        print(\"Error fetching geolocation: \", str(e))\n",
    "        return None, None"
   ]
  },
  {
   "cell_type": "code",
   "execution_count": 40,
   "metadata": {},
   "outputs": [],
   "source": [
    "origin_city = \"Dearborn, MI\"\n",
    "origin_lat, origin_lng = get_lat_lng_nominatim(origin_city)\n",
    "dearborn_mi = (origin_lat, origin_lng)"
   ]
  },
  {
   "cell_type": "code",
   "execution_count": 41,
   "metadata": {},
   "outputs": [],
   "source": [
    "def get_distance_dearborn(city_name):\n",
    "    dest_lat, dest_lng = get_lat_lng_nominatim(city_name)\n",
    "    # dearborn_mi = (origin_lat, origin_lng)\n",
    "    destination_coords = (dest_lat, dest_lng)\n",
    "    return distance.distance(dearborn_mi, destination_coords).miles"
   ]
  },
  {
   "cell_type": "code",
   "execution_count": null,
   "metadata": {},
   "outputs": [],
   "source": []
  },
  {
   "cell_type": "markdown",
   "metadata": {},
   "source": [
    "Carbon Emission Calculator"
   ]
  },
  {
   "cell_type": "code",
   "execution_count": 42,
   "metadata": {},
   "outputs": [],
   "source": [
    "def shipping_co2(distance, weight, transport):\n",
    "\n",
    "    co2_api_key = \"Onbqw4xVQ1bJnRqG9TlZuw\"\n",
    "    url = \"https://www.carboninterface.com/api/v1/estimates\"\n",
    "\n",
    "    data = {\n",
    "        \"type\": \"shipping\",\n",
    "        \"distance_unit\": \"mi\",\n",
    "        \"distance_value\": distance,\n",
    "        \"weight_unit\": \"g\",\n",
    "        \"weight_value\": weight,\n",
    "        \"transport_method\": transport\n",
    "    }\n",
    "\n",
    "    headers = {\n",
    "        \"Authorization\": f\"Bearer {co2_api_key}\",\n",
    "        \"Content-Type\": \"application/json\"\n",
    "    }\n",
    "\n",
    "    try:\n",
    "\n",
    "        response = requests.post(url, json=data, headers=headers)\n",
    "\n",
    "        if response.status_code == 201:\n",
    "            return response.json()\n",
    "        else:\n",
    "            print(f\"Error: {response.status_code} - {response.text}\")\n",
    "            return None\n",
    "    except Exception as e:\n",
    "        print(\"Error calculating shipping emissions: \", str(e))\n",
    "        return None"
   ]
  },
  {
   "cell_type": "code",
   "execution_count": 43,
   "metadata": {},
   "outputs": [],
   "source": [
    "def results(response_data):\n",
    "    \n",
    "    if response_data and 'data' in response_data:\n",
    "      #  estimate_id = response_data['data']['id']\n",
    "        estimate_type = response_data['data']['type']\n",
    "        attributes = response_data['data']['attributes']\n",
    "        \n",
    "        distance_value = attributes['distance_value']\n",
    "        distance_unit = attributes['distance_unit']\n",
    "        weight_value = attributes['weight_value']\n",
    "        weight_unit = attributes['weight_unit']\n",
    "        transport_method = attributes['transport_method']\n",
    "        estimated_at = attributes['estimated_at']\n",
    "        carbon_grams = attributes['carbon_g']\n",
    "        carbon_pounds = attributes['carbon_lb']\n",
    "        carbon_kilograms = attributes['carbon_kg']\n",
    "        carbon_metric_tons = attributes['carbon_mt']\n",
    "        \n",
    "        # Displaying the extracted information\n",
    "       # print(f\"Estimate ID: {estimate_id}\")\n",
    "        # print(f\"Type: {estimate_type}\")\n",
    "        # print(f\"Distance: {distance_value} {distance_unit}\")\n",
    "        # print(f\"Weight: {weight_value} {weight_unit}\")\n",
    "        # print(f\"Transport Method: {transport_method}\")\n",
    "        # print(f\"Estimated At: {estimated_at}\")\n",
    "        # print(f\"Carbon Emissions: {carbon_grams} g, {carbon_kilograms} kg, {carbon_pounds} lb, {carbon_metric_tons} mt\")\n",
    "        return carbon_grams\n",
    "    else:\n",
    "        print(\"No data available.\")"
   ]
  },
  {
   "cell_type": "code",
   "execution_count": 44,
   "metadata": {},
   "outputs": [
    {
     "data": {
      "text/plain": [
       "['Brownstown Township (DTW5)',\n",
       " 'Caledonia (GRR1)',\n",
       " 'Delta Township',\n",
       " 'Detroit',\n",
       " 'Gaines Township',\n",
       " 'Hazel Park (DDT1, SMI1) ',\n",
       " 'Huron Township (DTW3) ',\n",
       " 'Livonia (DET1)',\n",
       " 'Plymouth (DTW8)',\n",
       " 'Pontiac (DDT6, DET3)',\n",
       " 'Romulus (DTW1, DTW3, DTW9, DDT2)',\n",
       " 'Shelby Charter Township (DET2)',\n",
       " 'Sterling Heights (DGR3)']"
      ]
     },
     "execution_count": 44,
     "metadata": {},
     "output_type": "execute_result"
    }
   ],
   "source": [
    "amazon_warehouses[\"Michigan\"]"
   ]
  },
  {
   "cell_type": "code",
   "execution_count": 45,
   "metadata": {},
   "outputs": [],
   "source": [
    "def get_avg_dist_michigan():\n",
    "    total_dist_michigan = 0\n",
    "    for a_warehouse in amazon_warehouses[\"Michigan\"]:\n",
    "        full_loc = a_warehouse[2].split()[0] + \", MI\"\n",
    "        total_dist_michigan += get_distance_dearborn(full_loc)\n",
    "\n",
    "    return total_dist_michigan / len(amazon_warehouses[\"Michigan\"])"
   ]
  },
  {
   "cell_type": "code",
   "execution_count": 46,
   "metadata": {},
   "outputs": [
    {
     "name": "stdout",
     "output_type": "stream",
     "text": [
      "Error calculating shipping emissions:  Object of type function is not JSON serializable\n",
      "No data available.\n"
     ]
    }
   ],
   "source": [
    "# weight = 20000.00      # hard coding\n",
    "# transport = \"truck\"  # hard coding example of transportation\n",
    "    \n",
    "#     # Calculate carbon emissions\n",
    "# response = shipping_co2(get_avg_dist_michigan, weight, transport)\n",
    "\n",
    "# # print(response)   \n",
    "#     # Display the results\n",
    "# our_results = results(response)"
   ]
  },
  {
   "cell_type": "code",
   "execution_count": 47,
   "metadata": {},
   "outputs": [
    {
     "name": "stdout",
     "output_type": "stream",
     "text": [
      "Madison, Alabama\n"
     ]
    }
   ],
   "source": [
    "# city = amazon_warehouses[\"Alabama\"][2].split()[0] + \", Alabama\"\n",
    "# my_distance = get_distance_dearborn(city)  # Example distance in miles\n",
    "# print(city)\n",
    "\n",
    "# weight = 357.204      # hard coding\n",
    "# transport = \"truck\"  # hard coding example of transportation\n",
    "    \n",
    "#     # Calculate carbon emissions\n",
    "# response = shipping_co2(my_distance, weight, transport)\n",
    "\n",
    "# # print(response)   \n",
    "#     # Display the results\n",
    "# our_results = results(response)"
   ]
  },
  {
   "cell_type": "code",
   "execution_count": 48,
   "metadata": {},
   "outputs": [],
   "source": [
    "def get_average_state(city, state):\n",
    "    total_dist_state = 0\n",
    "    for a_warehouse in amazon_warehouses[state]:\n",
    "        full_loc = a_warehouse[2].split()[0] + \", \" + state\n",
    "        total_dist_state += get_distance_dearborn(full_loc)\n",
    "\n",
    "    return total_dist_state / len(amazon_warehouses[state])"
   ]
  },
  {
   "cell_type": "markdown",
   "metadata": {},
   "source": [
    "Putting it All Together"
   ]
  },
  {
   "cell_type": "code",
   "execution_count": null,
   "metadata": {},
   "outputs": [],
   "source": []
  },
  {
   "cell_type": "code",
   "execution_count": 49,
   "metadata": {},
   "outputs": [],
   "source": [
    "def get_location(url):\n",
    "    full_soup = get_request(url)\n",
    "    new_url = full_soup.find_all('div', class_ = \"offer-display-feature-text\")[2].find('span').find('a')\n",
    "\n",
    "    if (new_url.text == \"Amazon\" or new_url.text == 'Amazon.com'):\n",
    "        \n",
    "        #get average from amazon warehouse data\n",
    "        return get_avg_dist_michigan()\n",
    "    \n",
    "    half_pulled = re.findall(r'.+(\\?ie.+)', new_url.get('href'))\n",
    "    pulled_url = 'https://www.amazon.com/sp' + half_pulled[0]\n",
    "    \n",
    "    sec_soup = get_request(pulled_url)\n",
    "    biz_address = sec_soup.find_all('div', attrs={'id': 'page-section-detail-seller-info'})[0].find_all('span')[-5:]\n",
    "    list_biz_address = [span.text for span in biz_address]\n",
    "    str_biz_address = \" \".join(list_biz_address)\n",
    "\n",
    "    return str_biz_address"
   ]
  },
  {
   "cell_type": "code",
   "execution_count": 53,
   "metadata": {},
   "outputs": [
    {
     "name": "stdout",
     "output_type": "stream",
     "text": [
      " * Serving Flask app '__main__'\n"
     ]
    },
    {
     "name": "stdout",
     "output_type": "stream",
     "text": [
      " * Debug mode: off\n"
     ]
    },
    {
     "name": "stderr",
     "output_type": "stream",
     "text": [
      "WARNING: This is a development server. Do not use it in a production deployment. Use a production WSGI server instead.\n",
      " * Running on http://127.0.0.1:5000\n",
      "Press CTRL+C to quit\n"
     ]
    }
   ],
   "source": [
    "from flask import Flask, request, jsonify\n",
    "from flask_cors import CORS\n",
    "from threading import Thread\n",
    "\n",
    "app = Flask(__name__)\n",
    "CORS(app)  \n",
    "\n",
    "@app.route('/calculate_co2', methods=['POST'])\n",
    "def calculate_co2():\n",
    "    data = request.get_json()  \n",
    "    url = data.get('amazon_url')  \n",
    "\n",
    "    city = get_location(url)  \n",
    "\n",
    "    if isinstance(city, int):\n",
    "        my_distance = city  \n",
    "    else:\n",
    "        city = city.split()[4:6]\n",
    "        my_distance = get_distance_dearborn(city)  \n",
    "        \n",
    "    weight = 357.204  \n",
    "    transport = \"truck\"\n",
    "    \n",
    "    response = shipping_co2(my_distance, weight, transport)  \n",
    "    our_results = results(response)  \n",
    "    \n",
    "    return jsonify({\"co2\": our_results})  \n",
    "\n",
    "def run_flask():\n",
    "    app.run(port=5000)\n",
    "\n",
    "thread = Thread(target=run_flask)\n",
    "thread.start()"
   ]
  },
  {
   "cell_type": "code",
   "execution_count": 54,
   "metadata": {},
   "outputs": [],
   "source": [
    "#calculate_co2()"
   ]
  },
  {
   "cell_type": "code",
   "execution_count": null,
   "metadata": {},
   "outputs": [],
   "source": []
  },
  {
   "cell_type": "code",
   "execution_count": 55,
   "metadata": {},
   "outputs": [],
   "source": [
    "# my_distance = get_distance_dearborn(\"981 WOODLANE RD Jackson NJ 08527-1512 US\")\n",
    "# print(\"Dist: \", my_distance)"
   ]
  },
  {
   "cell_type": "code",
   "execution_count": 56,
   "metadata": {},
   "outputs": [
    {
     "name": "stdout",
     "output_type": "stream",
     "text": [
      "Dist:  460.22777633157335\n"
     ]
    }
   ],
   "source": [
    "addr = \"981 WOODLANE RD Jackson NJ 08527-1512 US\"\n",
    "addr = addr.split()[4:6]\n",
    "my_distance = get_distance_dearborn(addr)\n",
    "print(\"Dist: \", my_distance)"
   ]
  }
 ],
 "metadata": {
  "kernelspec": {
   "display_name": "pds",
   "language": "python",
   "name": "python3"
  },
  "language_info": {
   "codemirror_mode": {
    "name": "ipython",
    "version": 3
   },
   "file_extension": ".py",
   "mimetype": "text/x-python",
   "name": "python",
   "nbconvert_exporter": "python",
   "pygments_lexer": "ipython3",
   "version": "3.10.14"
  }
 },
 "nbformat": 4,
 "nbformat_minor": 2
}

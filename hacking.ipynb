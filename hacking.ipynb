{
 "cells": [
  {
   "cell_type": "code",
   "execution_count": 86,
   "metadata": {},
   "outputs": [],
   "source": [
    "pulled_url2 = 'https://www.amazon.com/sp' + half_pulled2[0]\n",
    "pulled_url2"
   ]
  },
  {
   "cell_type": "code",
   "execution_count": 87,
   "metadata": {},
   "outputs": [],
   "source": [
    "res_p2 = requests.get(pulled_url2, headers = custom_headers)\n"
   ]
  },
  {
   "cell_type": "code",
   "execution_count": 104,
   "metadata": {},
   "outputs": [],
   "source": [
    "res_p2.text\n",
    "soup_p2 = BeautifulSoup(res_p2.text)\n",
    "biz_address = soup_p2.find_all('div', attrs={'id': 'page-section-detail-seller-info'})[0].find_all('span')[-5:]\n",
    "print(biz_address[0].text)\n",
    "list_biz_address = [span.text for span in biz_address]\n",
    "str_biz_address = \" \".join(list_biz_address)\n",
    "\n",
    "str_biz_address"
   ]
  },
  {
   "cell_type": "code",
   "execution_count": 1,
   "metadata": {},
   "outputs": [],
   "source": [
    "import os\n",
    "import pandas as pd\n",
    "import numpy as np\n",
    "import requests\n",
    "from bs4 import BeautifulSoup\n",
    "import re"
   ]
  },
  {
   "cell_type": "code",
   "execution_count": 48,
   "metadata": {},
   "outputs": [],
   "source": [
    "# !pip install wikipedia-api"
   ]
  },
  {
   "cell_type": "code",
   "execution_count": 49,
   "metadata": {},
   "outputs": [],
   "source": [
    "import wikipediaapi"
   ]
  },
  {
   "cell_type": "code",
   "execution_count": 11,
   "metadata": {},
   "outputs": [],
   "source": [
    "custom_headers = {\n",
    "    'user-agent': 'Mozilla/5.0 (Macintosh; Intel Mac OS X 10_15_7) AppleWebKit/537.36 (KHTML, like Gecko) Chrome/108.0.0.0 Safari/537.36',\n",
    "    'accept-language': 'en-GB,en;q=0.9',\n",
    "}"
   ]
  },
  {
   "cell_type": "code",
   "execution_count": 12,
   "metadata": {},
   "outputs": [],
   "source": [
    "def get_request(url):\n",
    "    res = requests.get(url, headers=custom_headers)\n",
    "    return BeautifulSoup(res.text)"
   ]
  },
  {
   "cell_type": "code",
   "execution_count": 13,
   "metadata": {},
   "outputs": [],
   "source": [
    "def get_location(url):\n",
    "    full_soup = get_request(url)\n",
    "    new_url = full_soup.find_all('div', class_ = \"offer-display-feature-text\")[2].find('span').find('a').get('href')\n",
    "    half_pulled = re.findall(r'.+(\\?ie.+)', new_url)\n",
    "    pulled_url = 'https://www.amazon.com/sp' + half_pulled[0]\n",
    "    \n",
    "    sec_soup = get_request(pulled_url)\n",
    "    biz_address = sec_soup.find_all('div', attrs={'id': 'page-section-detail-seller-info'})[0].find_all('span')[-5:]\n",
    "    list_biz_address = [span.text for span in biz_address]\n",
    "    str_biz_address = \" \".join(list_biz_address)\n",
    "\n",
    "    return str_biz_address\n",
    "\n"
   ]
  },
  {
   "cell_type": "code",
   "execution_count": 14,
   "metadata": {},
   "outputs": [],
   "source": [
    "new_location = get_location(\"https://www.amazon.com/HERSHEYS-Assorted-Chocolate-70-31-Count/dp/B0BT53SS7V/ref=pd_ci_mcx_pspc_dp_2_t_1?pd_rd_w=9eqK5&content-id=amzn1.sym.2dfc1605-9ad4-4767-b699-ffe3b61e0dc9&pf_rd_p=2dfc1605-9ad4-4767-b699-ffe3b61e0dc9&pf_rd_r=ADE0RRXYM3Z2RRFYXGS1&pd_rd_wg=27i2s&pd_rd_r=007f7e2a-83f5-4d47-b79c-be7fdf2fc6f4&pd_rd_i=B0BT53SS7V#customerReviews\")\n",
    "\n",
    "new_location\n",
    "#works so far with this one"
   ]
  },
  {
   "cell_type": "markdown",
   "metadata": {},
   "source": [
    "# Below is the precursor to the functions above"
   ]
  },
  {
   "cell_type": "code",
   "execution_count": 21,
   "metadata": {},
   "outputs": [],
   "source": [
    "res = requests.get(\"https://www.amazon.com/HERSHEYS-Assorted-Chocolate-70-31-Count/dp/B0BT53SS7V/ref=pd_ci_mcx_pspc_dp_2_t_1?pd_rd_w=9eqK5&content-id=amzn1.sym.2dfc1605-9ad4-4767-b699-ffe3b61e0dc9&pf_rd_p=2dfc1605-9ad4-4767-b699-ffe3b61e0dc9&pf_rd_r=ADE0RRXYM3Z2RRFYXGS1&pd_rd_wg=27i2s&pd_rd_r=007f7e2a-83f5-4d47-b79c-be7fdf2fc6f4&pd_rd_i=B0BT53SS7V#customerReviews\")"
   ]
  },
  {
   "cell_type": "code",
   "execution_count": 62,
   "metadata": {},
   "outputs": [],
   "source": [
    "res.text\n",
    "soup = BeautifulSoup(res.text)\n",
    "new_url = soup.find_all('div', class_ = \"offer-display-feature-text\")[2].find('span').find('a').get('href')\n",
    "print(new_url)\n",
    "half_pulled = re.findall(r'.+(\\?ie.+)', new_url)\n",
    "\n",
    "half_pulled"
   ]
  },
  {
   "cell_type": "code",
   "execution_count": 63,
   "metadata": {},
   "outputs": [],
   "source": [
    "pulled_url = 'https://www.amazon.com/sp' + half_pulled[0]\n",
    "pulled_url"
   ]
  },
  {
   "cell_type": "code",
   "execution_count": 2,
   "metadata": {},
   "outputs": [],
   "source": [
    "res0 = requests.get(pulled_url, headers=custom_headers)\n",
    "res0.text\n",
    "soup0 = BeautifulSoup(res0.text)\n",
    "soup0\n",
    "print(soup0)"
   ]
  },
  {
   "cell_type": "code",
   "execution_count": 42,
   "metadata": {},
   "outputs": [],
   "source": [
    "res2 = requests.get(\"https://www.amazon.com/APHERMA-Massage-Athletes-Handheld-Massager/dp/B09P1DV7D8/ref=sr_1_7?dib=eyJ2IjoiMSJ9.LiyZsN8kTV-tXEtamWyFhFCoKQGkSwqDkNW7Vr4XOjC6cXND_kBqUxFQV-O4KerjA7LLdvMTviqSH9K_Ge0HaL1R_ZI_S768tx5hBPHcoVQ6IfY61CMMjqWoFsgohn76sQG7l1heQEGHwbiRe4WeyqOyavUWA7YqmVPTeHXkdIUHVUM4HwF578tT08yXS9eAukDyepHsOqfaA0xwT5uC2yV3Vh6LARvUEn84NzQxhng3YWBxQcUONQGmN9ihGKggHSrMnlIwj6iAA8nh2tCkUIMY3_zs5KiUl4cPbBXf1a8.k6K1mpXP_9xYS00DlC1j_rzKZIYgPtHL781HWtyyI4w&dib_tag=se&keywords=technology&qid=1728754938&sr=8-7\")"
   ]
  },
  {
   "cell_type": "code",
   "execution_count": 79,
   "metadata": {},
   "outputs": [],
   "source": [
    "res2.text\n",
    "soup2 = BeautifulSoup(res2.text)\n",
    "print(soup2.find_all('div', class_ = \"offer-display-feature-text\")[2].find('span').find('a').get('href'))\n",
    "half_pulled2 = re.findall(r'.+(\\?ie.+)', new_url)\n",
    "half_pulled2"
   ]
  },
  {
   "cell_type": "code",
   "execution_count": null,
   "metadata": {},
   "outputs": [],
   "source": [
    "#https://www.amazon.com/sp?ie=UTF8&seller=AXJDJGGZ0GBR0&asin=B0BT53SS7V&ref_=dp_merchant_link"
   ]
  },
  {
   "cell_type": "code",
   "execution_count": null,
   "metadata": {},
   "outputs": [],
   "source": [
    "#https://www.amazon.com/sp?ie=UTF8&seller=A2K7O3SLS2VLNQ&asin=B09P1DV7D8&ref_=dp_merchant_link&isAmazonFulfilled=1"
   ]
  },
  {
   "cell_type": "markdown",
   "metadata": {},
   "source": [
    "# Getting Amazon Warehouses"
   ]
  },
  {
   "cell_type": "code",
   "execution_count": null,
   "metadata": {},
   "outputs": [],
   "source": [
    "#wikipedia link\n",
    "\n",
    "\n",
    "# https://en.wikipedia.org/wiki/List_of_Amazon_locations#North_America"
   ]
  },
  {
   "cell_type": "code",
   "execution_count": 127,
   "metadata": {},
   "outputs": [],
   "source": [
    "wiki_wiki = wikipediaapi.Wikipedia('MyProjectName (merlin@example.com)', 'en')"
   ]
  },
  {
   "cell_type": "code",
   "execution_count": 128,
   "metadata": {},
   "outputs": [],
   "source": [
    "page_py = wiki_wiki.page('List_of_Amazon_locations#North_America')\n",
    "# page_py = wiki_wiki.page('Python_(programming_language)')\n",
    "print(\"Page - Exists: %s\" % page_py.exists())\n"
   ]
  },
  {
   "cell_type": "code",
   "execution_count": 129,
   "metadata": {},
   "outputs": [],
   "source": [
    "page_py.categories"
   ]
  },
  {
   "cell_type": "code",
   "execution_count": 130,
   "metadata": {},
   "outputs": [],
   "source": [
    "section = page_py.section_by_title('Fulfillment and warehousing')\n",
    "section.section_by_title('North America').section_by_title('United States')"
   ]
  },
  {
   "cell_type": "code",
   "execution_count": 131,
   "metadata": {},
   "outputs": [],
   "source": [
    "section = page_py.section_by_title('Fulfillment and warehousing')\n",
    "us_housing = section.section_by_title('North America').section_by_title('United States')\n",
    "full_housing_text = us_housing.text.split('\\n')[3:]\n",
    "full_housing_text\n",
    "\n",
    "\n",
    "# loc = full_housing_text[8]\n",
    "# loc.split()"
   ]
  },
  {
   "cell_type": "code",
   "execution_count": 133,
   "metadata": {},
   "outputs": [],
   "source": [
    "amazon_warehouses = {}\n",
    "sect = full_housing_text[0]\n",
    "for loc in full_housing_text:\n",
    "    if len(loc.split()) == 1:\n",
    "        # print(loc)\n",
    "        sect = loc\n",
    "        amazon_warehouses[sect] = []\n",
    "    else: \n",
    "        amazon_warehouses[sect] += [loc]\n",
    "\n",
    "amazon_warehouses"
   ]
  },
  {
   "cell_type": "code",
   "execution_count": 55,
   "metadata": {},
   "outputs": [],
   "source": [
    "print(\"%s - %s\" % (section.title, section.text[0:40]))"
   ]
  },
  {
   "cell_type": "code",
   "execution_count": 38,
   "metadata": {},
   "outputs": [],
   "source": [
    "wikipedia_url = \"https://en.wikipedia.org/wiki/List_of_Amazon_locations#North_America\"\n",
    "# wikipedia = get_request(wikipedia_url)"
   ]
  },
  {
   "cell_type": "code",
   "execution_count": 46,
   "metadata": {},
   "outputs": [],
   "source": [
    "# wikipedia.find_all('ul', class_ = '')[20]"
   ]
  }
 ],
 "metadata": {
  "kernelspec": {
   "display_name": "Python 3",
   "language": "python",
   "name": "python3"
  },
  "language_info": {
   "codemirror_mode": {
    "name": "ipython",
    "version": 3
   },
   "file_extension": ".py",
   "mimetype": "text/x-python",
   "name": "python",
   "nbconvert_exporter": "python",
   "pygments_lexer": "ipython3",
   "version": "3.10.14"
  }
 },
 "nbformat": 4,
 "nbformat_minor": 2
}

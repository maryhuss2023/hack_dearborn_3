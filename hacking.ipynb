{
 "cells": [
  {
   "cell_type": "code",
   "execution_count": 47,
   "metadata": {},
   "outputs": [],
   "source": [
    "import os\n",
    "import pandas as pd\n",
    "import numpy as np\n",
    "import requests\n",
    "from bs4 import BeautifulSoup\n",
    "import re"
   ]
  },
  {
   "cell_type": "code",
   "execution_count": 83,
   "metadata": {},
   "outputs": [],
   "source": [
    "custom_headers = {\n",
    "    'user-agent': 'Mozilla/5.0 (Macintosh; Intel Mac OS X 10_15_7) AppleWebKit/537.36 (KHTML, like Gecko) Chrome/108.0.0.0 Safari/537.36',\n",
    "    'accept-language': 'en-GB,en;q=0.9',\n",
    "}"
   ]
  },
  {
   "cell_type": "code",
   "execution_count": 21,
   "metadata": {},
   "outputs": [],
   "source": [
    "res = requests.get(\"https://www.amazon.com/HERSHEYS-Assorted-Chocolate-70-31-Count/dp/B0BT53SS7V/ref=pd_ci_mcx_pspc_dp_2_t_1?pd_rd_w=9eqK5&content-id=amzn1.sym.2dfc1605-9ad4-4767-b699-ffe3b61e0dc9&pf_rd_p=2dfc1605-9ad4-4767-b699-ffe3b61e0dc9&pf_rd_r=ADE0RRXYM3Z2RRFYXGS1&pd_rd_wg=27i2s&pd_rd_r=007f7e2a-83f5-4d47-b79c-be7fdf2fc6f4&pd_rd_i=B0BT53SS7V#customerReviews\")"
   ]
  },
  {
   "cell_type": "code",
   "execution_count": 62,
   "metadata": {},
   "outputs": [
    {
     "name": "stdout",
     "output_type": "stream",
     "text": [
      "/gp/help/seller/at-a-glance.html/ref=dp_merchant_link?ie=UTF8&seller=AXJDJGGZ0GBR0&asin=B0BT53SS7V&ref_=dp_merchant_link\n"
     ]
    },
    {
     "data": {
      "text/plain": [
       "['?ie=UTF8&seller=AXJDJGGZ0GBR0&asin=B0BT53SS7V&ref_=dp_merchant_link']"
      ]
     },
     "execution_count": 62,
     "metadata": {},
     "output_type": "execute_result"
    }
   ],
   "source": [
    "res.text\n",
    "soup = BeautifulSoup(res.text)\n",
    "new_url = soup.find_all('div', class_ = \"offer-display-feature-text\")[2].find('span').find('a').get('href')\n",
    "print(new_url)\n",
    "half_pulled = re.findall(r'.+(\\?ie.+)', new_url)\n",
    "\n",
    "half_pulled"
   ]
  },
  {
   "cell_type": "code",
   "execution_count": 63,
   "metadata": {},
   "outputs": [
    {
     "data": {
      "text/plain": [
       "'https://www.amazon.com/sp?ie=UTF8&seller=AXJDJGGZ0GBR0&asin=B0BT53SS7V&ref_=dp_merchant_link'"
      ]
     },
     "execution_count": 63,
     "metadata": {},
     "output_type": "execute_result"
    }
   ],
   "source": [
    "pulled_url = 'https://www.amazon.com/sp' + half_pulled[0]\n",
    "pulled_url"
   ]
  },
  {
   "cell_type": "code",
   "execution_count": 75,
   "metadata": {},
   "outputs": [
    {
     "data": {
      "text/plain": [
       "<!--\n",
       "        To discuss automated access to Amazon data please contact api-services-support@amazon.com.\n",
       "        For information about migrating to our APIs refer to our Marketplace APIs at https://developer.amazonservices.com/ref=rm_5_sv, or our Product Advertising API at https://affiliate-program.amazon.com/gp/advertising/api/detail/main.html/ref=rm_5_ac for advertising use cases.\n",
       "-->\n",
       "<!DOCTYPE html>\n",
       "\n",
       "<html>\n",
       "<head>\n",
       "<meta charset=\"utf-8\"/>\n",
       "<meta content=\"ie=edge\" http-equiv=\"x-ua-compatible\"/>\n",
       "<meta content=\"width=device-width, initial-scale=1, shrink-to-fit=no\" name=\"viewport\"/>\n",
       "<title>Sorry! Something went wrong!</title>\n",
       "<style>\n",
       "  html, body {\n",
       "    padding: 0;\n",
       "    margin: 0\n",
       "  }\n",
       "\n",
       "  img {\n",
       "    border: 0\n",
       "  }\n",
       "\n",
       "  #a {\n",
       "    background: #232f3e;\n",
       "    padding: 11px 11px 11px 192px\n",
       "  }\n",
       "\n",
       "  #b {\n",
       "    position: absolute;\n",
       "    left: 22px;\n",
       "    top: 12px\n",
       "  }\n",
       "\n",
       "  #c {\n",
       "    position: relative;\n",
       "    max-width: 800px;\n",
       "    padding: 0 40px 0 0\n",
       "  }\n",
       "\n",
       "  #e, #f {\n",
       "    height: 35px;\n",
       "    border: 0;\n",
       "    font-size: 1em\n",
       "  }\n",
       "\n",
       "  #e {\n",
       "    width: 100%;\n",
       "    margin: 0;\n",
       "    padding: 0 10px;\n",
       "    border-radius: 4px 0 0 4px\n",
       "  }\n",
       "\n",
       "  #f {\n",
       "    cursor: pointer;\n",
       "    background: #febd69;\n",
       "    font-weight: bold;\n",
       "    border-radius: 0 4px 4px 0;\n",
       "    -webkit-appearance: none;\n",
       "    position: absolute;\n",
       "    top: 0;\n",
       "    right: 0;\n",
       "    padding: 0 12px\n",
       "  }\n",
       "\n",
       "  @media (max-width: 500px) {\n",
       "    #a {\n",
       "      padding: 55px 10px 10px\n",
       "    }\n",
       "\n",
       "    #b {\n",
       "      left: 6px\n",
       "    }\n",
       "  }\n",
       "\n",
       "  #g {\n",
       "    text-align: center;\n",
       "    margin: 30px 0\n",
       "  }\n",
       "\n",
       "  #g img {\n",
       "    max-width: 90%\n",
       "  }\n",
       "\n",
       "  #d {\n",
       "    display: none\n",
       "  }\n",
       "\n",
       "  #d[src] {\n",
       "    display: inline\n",
       "  }\n",
       "  </style>\n",
       "</head>\n",
       "<body>\n",
       "<a href=\"/ref=cs_503_logo\"><img alt=\"Amazon.com\" id=\"b\" src=\"https://images-na.ssl-images-amazon.com/images/G/01/error/logo._TTD_.png\"/></a>\n",
       "<form accept-charset=\"utf-8\" action=\"/s\" id=\"a\" method=\"GET\" role=\"search\">\n",
       "<div id=\"c\">\n",
       "<input id=\"e\" name=\"field-keywords\" placeholder=\"Search\"/>\n",
       "<input name=\"ref\" type=\"hidden\" value=\"cs_503_search\"/>\n",
       "<input id=\"f\" type=\"submit\" value=\"Go\"/>\n",
       "</div>\n",
       "</form>\n",
       "<div id=\"g\">\n",
       "<div><a href=\"/ref=cs_503_link\"><img alt=\"Sorry! Something went wrong on our end. Please go back and try again or go to Amazon's home page.\" src=\"https://images-na.ssl-images-amazon.com/images/G/01/error/500_503.png\"/></a>\n",
       "</div>\n",
       "<a href=\"/dogsofamazon/ref=cs_503_d\" rel=\"noopener noreferrer\" target=\"_blank\"><img alt=\"Dogs of Amazon\" id=\"d\"/></a>\n",
       "<script>document.getElementById(\"d\").src = \"https://images-na.ssl-images-amazon.com/images/G/01/error/\" + (Math.floor(Math.random() * 43) + 1) + \"._TTD_.jpg\";</script>\n",
       "</div>\n",
       "</body>\n",
       "</html>"
      ]
     },
     "execution_count": 75,
     "metadata": {},
     "output_type": "execute_result"
    }
   ],
   "source": [
    "res0 = requests.get(pulled_url)\n",
    "res0.text\n",
    "soup0 = BeautifulSoup(res0.text)\n",
    "soup0"
   ]
  },
  {
   "cell_type": "code",
   "execution_count": 73,
   "metadata": {},
   "outputs": [
    {
     "name": "stdout",
     "output_type": "stream",
     "text": [
      "<!--\n",
      "        To discuss automated access to Amazon data please contact api-services-support@amazon.com.\n",
      "        For information about migrating to our APIs refer to our Marketplace APIs at https://developer.amazonservices.com/ref=rm_5_sv, or our Product Advertising API at https://affiliate-program.amazon.com/gp/advertising/api/detail/main.html/ref=rm_5_ac for advertising use cases.\n",
      "-->\n",
      "<!DOCTYPE html>\n",
      "\n",
      "<html>\n",
      "<head>\n",
      "<meta charset=\"utf-8\"/>\n",
      "<meta content=\"ie=edge\" http-equiv=\"x-ua-compatible\"/>\n",
      "<meta content=\"width=device-width, initial-scale=1, shrink-to-fit=no\" name=\"viewport\"/>\n",
      "<title>Sorry! Something went wrong!</title>\n",
      "<style>\n",
      "  html, body {\n",
      "    padding: 0;\n",
      "    margin: 0\n",
      "  }\n",
      "\n",
      "  img {\n",
      "    border: 0\n",
      "  }\n",
      "\n",
      "  #a {\n",
      "    background: #232f3e;\n",
      "    padding: 11px 11px 11px 192px\n",
      "  }\n",
      "\n",
      "  #b {\n",
      "    position: absolute;\n",
      "    left: 22px;\n",
      "    top: 12px\n",
      "  }\n",
      "\n",
      "  #c {\n",
      "    position: relative;\n",
      "    max-width: 800px;\n",
      "    padding: 0 40px 0 0\n",
      "  }\n",
      "\n",
      "  #e, #f {\n",
      "    height: 35px;\n",
      "    border: 0;\n",
      "    font-size: 1em\n",
      "  }\n",
      "\n",
      "  #e {\n",
      "    width: 100%;\n",
      "    margin: 0;\n",
      "    padding: 0 10px;\n",
      "    border-radius: 4px 0 0 4px\n",
      "  }\n",
      "\n",
      "  #f {\n",
      "    cursor: pointer;\n",
      "    background: #febd69;\n",
      "    font-weight: bold;\n",
      "    border-radius: 0 4px 4px 0;\n",
      "    -webkit-appearance: none;\n",
      "    position: absolute;\n",
      "    top: 0;\n",
      "    right: 0;\n",
      "    padding: 0 12px\n",
      "  }\n",
      "\n",
      "  @media (max-width: 500px) {\n",
      "    #a {\n",
      "      padding: 55px 10px 10px\n",
      "    }\n",
      "\n",
      "    #b {\n",
      "      left: 6px\n",
      "    }\n",
      "  }\n",
      "\n",
      "  #g {\n",
      "    text-align: center;\n",
      "    margin: 30px 0\n",
      "  }\n",
      "\n",
      "  #g img {\n",
      "    max-width: 90%\n",
      "  }\n",
      "\n",
      "  #d {\n",
      "    display: none\n",
      "  }\n",
      "\n",
      "  #d[src] {\n",
      "    display: inline\n",
      "  }\n",
      "  </style>\n",
      "</head>\n",
      "<body>\n",
      "<a href=\"/ref=cs_503_logo\"><img alt=\"Amazon.com\" id=\"b\" src=\"https://images-na.ssl-images-amazon.com/images/G/01/error/logo._TTD_.png\"/></a>\n",
      "<form accept-charset=\"utf-8\" action=\"/s\" id=\"a\" method=\"GET\" role=\"search\">\n",
      "<div id=\"c\">\n",
      "<input id=\"e\" name=\"field-keywords\" placeholder=\"Search\"/>\n",
      "<input name=\"ref\" type=\"hidden\" value=\"cs_503_search\"/>\n",
      "<input id=\"f\" type=\"submit\" value=\"Go\"/>\n",
      "</div>\n",
      "</form>\n",
      "<div id=\"g\">\n",
      "<div><a href=\"/ref=cs_503_link\"><img alt=\"Sorry! Something went wrong on our end. Please go back and try again or go to Amazon's home page.\" src=\"https://images-na.ssl-images-amazon.com/images/G/01/error/500_503.png\"/></a>\n",
      "</div>\n",
      "<a href=\"/dogsofamazon/ref=cs_503_d\" rel=\"noopener noreferrer\" target=\"_blank\"><img alt=\"Dogs of Amazon\" id=\"d\"/></a>\n",
      "<script>document.getElementById(\"d\").src = \"https://images-na.ssl-images-amazon.com/images/G/01/error/\" + (Math.floor(Math.random() * 43) + 1) + \"._TTD_.jpg\";</script>\n",
      "</div>\n",
      "</body>\n",
      "</html>\n",
      "\n"
     ]
    }
   ],
   "source": [
    "\n",
    "\n",
    "\n",
    "#, attrs={'id' : 'seller-profile-container'}\n",
    "print(soup0)"
   ]
  },
  {
   "cell_type": "code",
   "execution_count": 42,
   "metadata": {},
   "outputs": [],
   "source": [
    "res2 = requests.get(\"https://www.amazon.com/APHERMA-Massage-Athletes-Handheld-Massager/dp/B09P1DV7D8/ref=sr_1_7?dib=eyJ2IjoiMSJ9.LiyZsN8kTV-tXEtamWyFhFCoKQGkSwqDkNW7Vr4XOjC6cXND_kBqUxFQV-O4KerjA7LLdvMTviqSH9K_Ge0HaL1R_ZI_S768tx5hBPHcoVQ6IfY61CMMjqWoFsgohn76sQG7l1heQEGHwbiRe4WeyqOyavUWA7YqmVPTeHXkdIUHVUM4HwF578tT08yXS9eAukDyepHsOqfaA0xwT5uC2yV3Vh6LARvUEn84NzQxhng3YWBxQcUONQGmN9ihGKggHSrMnlIwj6iAA8nh2tCkUIMY3_zs5KiUl4cPbBXf1a8.k6K1mpXP_9xYS00DlC1j_rzKZIYgPtHL781HWtyyI4w&dib_tag=se&keywords=technology&qid=1728754938&sr=8-7\")"
   ]
  },
  {
   "cell_type": "code",
   "execution_count": 79,
   "metadata": {},
   "outputs": [
    {
     "name": "stdout",
     "output_type": "stream",
     "text": [
      "/gp/help/seller/at-a-glance.html/ref=dp_merchant_link?ie=UTF8&seller=A2K7O3SLS2VLNQ&asin=B09P1DV7D8&ref_=dp_merchant_link&isAmazonFulfilled=1\n"
     ]
    },
    {
     "data": {
      "text/plain": [
       "['?ie=UTF8&seller=AXJDJGGZ0GBR0&asin=B0BT53SS7V&ref_=dp_merchant_link']"
      ]
     },
     "execution_count": 79,
     "metadata": {},
     "output_type": "execute_result"
    }
   ],
   "source": [
    "res2.text\n",
    "soup2 = BeautifulSoup(res2.text)\n",
    "print(soup2.find_all('div', class_ = \"offer-display-feature-text\")[2].find('span').find('a').get('href'))\n",
    "half_pulled2 = re.findall(r'.+(\\?ie.+)', new_url)\n",
    "half_pulled2"
   ]
  },
  {
   "cell_type": "code",
   "execution_count": 86,
   "metadata": {},
   "outputs": [
    {
     "data": {
      "text/plain": [
       "'https://www.amazon.com/sp?ie=UTF8&seller=AXJDJGGZ0GBR0&asin=B0BT53SS7V&ref_=dp_merchant_link'"
      ]
     },
     "execution_count": 86,
     "metadata": {},
     "output_type": "execute_result"
    }
   ],
   "source": [
    "pulled_url2 = 'https://www.amazon.com/sp' + half_pulled2[0]\n",
    "pulled_url2"
   ]
  },
  {
   "cell_type": "code",
   "execution_count": 87,
   "metadata": {},
   "outputs": [],
   "source": [
    "res_p2 = requests.get(pulled_url2, headers = custom_headers)\n"
   ]
  },
  {
   "cell_type": "code",
   "execution_count": 104,
   "metadata": {},
   "outputs": [
    {
     "name": "stdout",
     "output_type": "stream",
     "text": [
      "117 grove street\n"
     ]
    },
    {
     "data": {
      "text/plain": [
       "'117 grove street Shelton Connecticut 06484 US'"
      ]
     },
     "execution_count": 104,
     "metadata": {},
     "output_type": "execute_result"
    }
   ],
   "source": [
    "res_p2.text\n",
    "soup_p2 = BeautifulSoup(res_p2.text)\n",
    "biz_address = soup_p2.find_all('div', attrs={'id': 'page-section-detail-seller-info'})[0].find_all('span')[-5:]\n",
    "print(biz_address[0].text)\n",
    "list_biz_address = [span.text for span in biz_address]\n",
    "str_biz_address = \" \".join(list_biz_address)\n",
    "\n",
    "str_biz_address"
   ]
  },
  {
   "cell_type": "code",
   "execution_count": null,
   "metadata": {},
   "outputs": [],
   "source": [
    "https://www.amazon.com/sp?ie=UTF8&seller=AXJDJGGZ0GBR0&asin=B0BT53SS7V&ref_=dp_merchant_link"
   ]
  },
  {
   "cell_type": "code",
   "execution_count": null,
   "metadata": {},
   "outputs": [],
   "source": [
    "https://www.amazon.com/sp?ie=UTF8&seller=A2K7O3SLS2VLNQ&asin=B09P1DV7D8&ref_=dp_merchant_link&isAmazonFulfilled=1"
   ]
  }
 ],
 "metadata": {
  "kernelspec": {
   "display_name": "base",
   "language": "python",
   "name": "python3"
  },
  "language_info": {
   "codemirror_mode": {
    "name": "ipython",
    "version": 3
   },
   "file_extension": ".py",
   "mimetype": "text/x-python",
   "name": "python",
   "nbconvert_exporter": "python",
   "pygments_lexer": "ipython3",
   "version": "3.10.14"
  }
 },
 "nbformat": 4,
 "nbformat_minor": 2
}

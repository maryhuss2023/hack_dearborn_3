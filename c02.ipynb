{
 "cells": [
  {
   "cell_type": "code",
   "execution_count": 14,
   "metadata": {},
   "outputs": [],
   "source": [
    "import json\n",
    "import requests"
   ]
  },
  {
   "cell_type": "code",
   "execution_count": 15,
   "metadata": {},
   "outputs": [],
   "source": [
    "def shipping_co2(distance, weight, transport):\n",
    "\n",
    "    co2_api_key = \"Onbqw4xVQ1bJnRqG9TlZuw\"\n",
    "    url = \"https://www.carboninterface.com/api/v1/estimates\"\n",
    "\n",
    "    data = {\n",
    "        \"type\": \"shipping\",\n",
    "        \"distance_unit\": \"km\",\n",
    "        \"distance_value\": distance,\n",
    "        \"weight_unit\": \"g\",\n",
    "        \"weight_value\": weight,\n",
    "        \"transport_method\": transport\n",
    "    }\n",
    "\n",
    "    headers = {\n",
    "        \"Authorization\": f\"Bearer {co2_api_key}\",\n",
    "        \"Content-Type\": \"application/json\"\n",
    "    }\n",
    "\n",
    "    try:\n",
    "\n",
    "        response = requests.post(url, json=data, headers=headers)\n",
    "\n",
    "        if response.status_code == 201:\n",
    "            return response.json()\n",
    "        else:\n",
    "            print(f\"Error: {response.status_code} - {response.text}\")\n",
    "            return None\n",
    "    except Exception as e:\n",
    "        print(\"Error calculating shipping emissions: \", str(e))\n",
    "        return None    "
   ]
  },
  {
   "cell_type": "code",
   "execution_count": 16,
   "metadata": {},
   "outputs": [],
   "source": [
    "def results(response_data):\n",
    "    \n",
    "    if response_data and 'data' in response_data:\n",
    "      #  estimate_id = response_data['data']['id']\n",
    "        estimate_type = response_data['data']['type']\n",
    "        attributes = response_data['data']['attributes']\n",
    "        \n",
    "        distance_value = attributes['distance_value']\n",
    "        distance_unit = attributes['distance_unit']\n",
    "        weight_value = attributes['weight_value']\n",
    "        weight_unit = attributes['weight_unit']\n",
    "        transport_method = attributes['transport_method']\n",
    "        estimated_at = attributes['estimated_at']\n",
    "        carbon_grams = attributes['carbon_g']\n",
    "        carbon_pounds = attributes['carbon_lb']\n",
    "        carbon_kilograms = attributes['carbon_kg']\n",
    "        carbon_metric_tons = attributes['carbon_mt']\n",
    "        \n",
    "        # Displaying the extracted information\n",
    "       # print(f\"Estimate ID: {estimate_id}\")\n",
    "        print(f\"Type: {estimate_type}\")\n",
    "        print(f\"Distance: {distance_value} {distance_unit}\")\n",
    "        print(f\"Weight: {weight_value} {weight_unit}\")\n",
    "        print(f\"Transport Method: {transport_method}\")\n",
    "        print(f\"Estimated At: {estimated_at}\")\n",
    "        print(f\"Carbon Emissions: {carbon_grams} g, {carbon_kilograms} kg, {carbon_pounds} lb, {carbon_metric_tons} mt\")\n",
    "    else:\n",
    "        print(\"No data available.\")"
   ]
  },
  {
   "cell_type": "markdown",
   "metadata": {},
   "source": []
  },
  {
   "cell_type": "code",
   "execution_count": 22,
   "metadata": {},
   "outputs": [
    {
     "name": "stdout",
     "output_type": "stream",
     "text": [
      "Type: estimate\n",
      "Distance: 2000.0 km\n",
      "Weight: 200.0 g\n",
      "Transport Method: truck\n",
      "Estimated At: 2024-10-12T23:16:12.069Z\n",
      "Carbon Emissions: 25 g, 0.03 kg, 0.06 lb, 0.0 mt\n"
     ]
    }
   ],
   "source": [
    "distance = 2000.0  # Example distance in kilometers\n",
    "weight = 200.0      # Example weight in grams\n",
    "transport = \"truck\"  # Example transport method\n",
    "    \n",
    "    # Calculate carbon emissions\n",
    "response = shipping_co2(distance, weight, transport)\n",
    "    \n",
    "    # Display the results\n",
    "our_results = results(response)"
   ]
  }
 ],
 "metadata": {
  "kernelspec": {
   "display_name": "Python 3",
   "language": "python",
   "name": "python3"
  },
  "language_info": {
   "codemirror_mode": {
    "name": "ipython",
    "version": 3
   },
   "file_extension": ".py",
   "mimetype": "text/x-python",
   "name": "python",
   "nbconvert_exporter": "python",
   "pygments_lexer": "ipython3",
   "version": "3.10.14"
  }
 },
 "nbformat": 4,
 "nbformat_minor": 2
}

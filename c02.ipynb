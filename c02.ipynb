{
 "cells": [
  {
   "cell_type": "code",
   "execution_count": null,
   "metadata": {},
   "outputs": [],
   "source": [
    "import json\n",
    "import requests"
   ]
  },
  {
   "cell_type": "code",
   "execution_count": null,
   "metadata": {},
   "outputs": [],
   "source": [
    "def shipping_Co2(distance, weight, transport):\n",
    "\n",
    "    co2_api_key = \"Onbqw4xVQ1bJnRqG9TlZuw\"\n",
    "    url = \"https://www.carboninterface.com/api/v1/estimates\"\n",
    "    data = {\n",
    "        \"type\": \"shipping\",\n",
    "        \"distance_unit\": \"\",\n",
    "        \"distance_value\": distance,\n",
    "        \"weight_unit\": \"\",\n",
    "        \"weight_value\": weight,\n",
    "        \"transport_method\": transport\n",
    "    }\n",
    "\n",
    "    headers = {\n",
    "        \"Authorization\": f\"Bearer {co2_api_key}\",\n",
    "        \"Content-Type\": \"application/json\"\n",
    "    }\n",
    "\n",
    "    try:\n",
    "\n",
    "        response = requests.post(url, json=data, headers=headers)\n",
    "\n",
    "    except:\n",
    "        print('Error')\n",
    "        "
   ]
  }
 ],
 "metadata": {
  "language_info": {
   "name": "python"
  }
 },
 "nbformat": 4,
 "nbformat_minor": 2
}
